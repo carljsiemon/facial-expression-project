{
 "metadata": {
  "name": "",
  "signature": "sha256:45e44e0f7fc2af0629ca5e51723b410318de31bf61342df3cc79f25d8df4d349"
 },
 "nbformat": 3,
 "nbformat_minor": 0,
 "worksheets": [
  {
   "cells": [
    {
     "cell_type": "code",
     "collapsed": false,
     "input": [
      "import graphlab as gl\n",
      "gl.canvas.set_target('ipynb')"
     ],
     "language": "python",
     "metadata": {},
     "outputs": [
      {
       "output_type": "stream",
       "stream": "stderr",
       "text": [
        "A newer version of GraphLab Create (v1.3) is available! Your current version is v1.2.1.\n",
        "You can use pip to upgrade the graphlab-create package. For more information see http://graphlab.com/products/create/upgrade."
       ]
      }
     ],
     "prompt_number": 1
    },
    {
     "cell_type": "code",
     "collapsed": false,
     "input": [
      "data = gl.SFrame('~/zipfian/emotions/image/img/ker_sframe')"
     ],
     "language": "python",
     "metadata": {},
     "outputs": [],
     "prompt_number": 6
    },
    {
     "cell_type": "code",
     "collapsed": false,
     "input": [
      "data.shape"
     ],
     "language": "python",
     "metadata": {},
     "outputs": [
      {
       "metadata": {},
       "output_type": "pyout",
       "prompt_number": 7,
       "text": [
        "(35887, 2)"
       ]
      }
     ],
     "prompt_number": 7
    },
    {
     "cell_type": "code",
     "collapsed": false,
     "input": [
      "net = gl.deeplearning.create(data, target='label')"
     ],
     "language": "python",
     "metadata": {},
     "outputs": [],
     "prompt_number": 8
    },
    {
     "cell_type": "code",
     "collapsed": false,
     "input": [
      "training_data, test_data = data.random_split(.9)"
     ],
     "language": "python",
     "metadata": {},
     "outputs": [],
     "prompt_number": 10
    },
    {
     "cell_type": "code",
     "collapsed": false,
     "input": [
      "training_data, validation_data = data.random_split(0.8)"
     ],
     "language": "python",
     "metadata": {},
     "outputs": [],
     "prompt_number": 11
    },
    {
     "cell_type": "code",
     "collapsed": false,
     "input": [
      "mean_image = training_data['images'].mean()"
     ],
     "language": "python",
     "metadata": {},
     "outputs": [],
     "prompt_number": 31
    },
    {
     "cell_type": "code",
     "collapsed": false,
     "input": [
      "m = gl.neuralnet_classifier.create(training_data, target='label',\n",
      "                                   network=net,\n",
      "                                   validation_set=validation_data,\n",
      "                                   metric=['accuracy', 'recall@2'],\n",
      "                                   max_iterations=100,\n",
      "                                   mean_image=mean_image,\n",
      "                                   batch_size=150,\n",
      "                                   model_checkpoint_interval=5,\n",
      "                                   model_checkpoint_path='~/tmp/chkpt')"
     ],
     "language": "python",
     "metadata": {},
     "outputs": [
      {
       "html": [
        "<pre>PROGRESS: For Nvidia GPU CUDA support, please pip install http://static.dato.com/files/graphlab-create-1.3.0.gpu.tar.gz</pre>"
       ],
       "metadata": {},
       "output_type": "display_data",
       "text": [
        "PROGRESS: For Nvidia GPU CUDA support, please pip install http://static.dato.com/files/graphlab-create-1.3.0.gpu.tar.gz"
       ]
      },
      {
       "html": [
        "<pre>PROGRESS: Creating neuralnet using device = cpu</pre>"
       ],
       "metadata": {},
       "output_type": "display_data",
       "text": [
        "PROGRESS: Creating neuralnet using device = cpu"
       ]
      },
      {
       "html": [
        "<pre>PROGRESS: +-----------+----------+--------------+-------------------+---------------------+-------------------+---------------------+-----------------+</pre>"
       ],
       "metadata": {},
       "output_type": "display_data",
       "text": [
        "PROGRESS: +-----------+----------+--------------+-------------------+---------------------+-------------------+---------------------+-----------------+"
       ]
      },
      {
       "html": [
        "<pre>PROGRESS: | Iteration | Examples | Elapsed Time | Training-accuracy | Validation-accuracy | Training-recall@2 | Validation-recall@2 | Examples/second |</pre>"
       ],
       "metadata": {},
       "output_type": "display_data",
       "text": [
        "PROGRESS: | Iteration | Examples | Elapsed Time | Training-accuracy | Validation-accuracy | Training-recall@2 | Validation-recall@2 | Examples/second |"
       ]
      },
      {
       "html": [
        "<pre>PROGRESS: +-----------+----------+--------------+-------------------+---------------------+-------------------+---------------------+-----------------+</pre>"
       ],
       "metadata": {},
       "output_type": "display_data",
       "text": [
        "PROGRESS: +-----------+----------+--------------+-------------------+---------------------+-------------------+---------------------+-----------------+"
       ]
      },
      {
       "html": [
        "<pre>PROGRESS: | 1         | 19050    | 10.031118    | 0.271706          |                     | 0.460735          |                     | 1899.093018     |</pre>"
       ],
       "metadata": {},
       "output_type": "display_data",
       "text": [
        "PROGRESS: | 1         | 19050    | 10.031118    | 0.271706          |                     | 0.460735          |                     | 1899.093018     |"
       ]
      },
      {
       "html": [
        "<pre>PROGRESS: | 1         | 28800    | 17.188275    | 0.291215          | 0.358333            | 0.482118          | 0.548056            | 1362.271606     |</pre>"
       ],
       "metadata": {},
       "output_type": "display_data",
       "text": [
        "PROGRESS: | 1         | 28800    | 17.188275    | 0.291215          | 0.358333            | 0.482118          | 0.548056            | 1362.271606     |"
       ]
      },
      {
       "html": [
        "<pre>PROGRESS: | 2         | 18600    | 27.270195    | 0.344140          |                     | 0.543011          |                     | 1844.902832     |</pre>"
       ],
       "metadata": {},
       "output_type": "display_data",
       "text": [
        "PROGRESS: | 2         | 18600    | 27.270195    | 0.344140          |                     | 0.543011          |                     | 1844.902832     |"
       ]
      },
      {
       "html": [
        "<pre>PROGRESS: | 2         | 28650    | 34.921128    | 0.349145          | 0.382361            | 0.547644          | 0.577083            | 1313.564087     |</pre>"
       ],
       "metadata": {},
       "output_type": "display_data",
       "text": [
        "PROGRESS: | 2         | 28650    | 34.921128    | 0.349145          | 0.382361            | 0.547644          | 0.577083            | 1313.564087     |"
       ]
      },
      {
       "html": [
        "<pre>PROGRESS: | 3         | 18450    | 44.967381    | 0.371653          |                     | 0.570406          |                     | 1836.519165     |</pre>"
       ],
       "metadata": {},
       "output_type": "display_data",
       "text": [
        "PROGRESS: | 3         | 18450    | 44.967381    | 0.371653          |                     | 0.570406          |                     | 1836.519165     |"
       ]
      },
      {
       "html": [
        "<pre>PROGRESS: | 3         | 28650    | 52.376705    | 0.376998          | 0.396806            | 0.574555          | 0.597917            | 1376.641235     |</pre>"
       ],
       "metadata": {},
       "output_type": "display_data",
       "text": [
        "PROGRESS: | 3         | 28650    | 52.376705    | 0.376998          | 0.396806            | 0.574555          | 0.597917            | 1376.641235     |"
       ]
      },
      {
       "html": [
        "<pre>PROGRESS: | 4         | 17400    | 62.413060    | 0.388621          |                     | 0.589828          |                     | 1733.710938     |</pre>"
       ],
       "metadata": {},
       "output_type": "display_data",
       "text": [
        "PROGRESS: | 4         | 17400    | 62.413060    | 0.388621          |                     | 0.589828          |                     | 1733.710938     |"
       ]
      },
      {
       "html": [
        "<pre>PROGRESS: | 4         | 28800    | 70.933703    | 0.394653          | 0.418750            | 0.594583          | 0.614306            | 1337.926392     |</pre>"
       ],
       "metadata": {},
       "output_type": "display_data",
       "text": [
        "PROGRESS: | 4         | 28800    | 70.933703    | 0.394653          | 0.418750            | 0.594583          | 0.614306            | 1337.926392     |"
       ]
      },
      {
       "html": [
        "<pre>PROGRESS: | 5         | 18600    | 80.997361    | 0.403441          |                     | 0.602097          |                     | 1848.251099     |</pre>"
       ],
       "metadata": {},
       "output_type": "display_data",
       "text": [
        "PROGRESS: | 5         | 18600    | 80.997361    | 0.403441          |                     | 0.602097          |                     | 1848.251099     |"
       ]
      },
      {
       "html": [
        "<pre>PROGRESS: | 5         | 28650    | 88.470432    | 0.409250          | 0.435972            | 0.606387          | 0.630139            | 1344.828125     |</pre>"
       ],
       "metadata": {},
       "output_type": "display_data",
       "text": [
        "PROGRESS: | 5         | 28650    | 88.470432    | 0.409250          | 0.435972            | 0.606387          | 0.630139            | 1344.828125     |"
       ]
      },
      {
       "html": [
        "<pre>PROGRESS: Checkpointing model into ~/tmp/chkpt</pre>"
       ],
       "metadata": {},
       "output_type": "display_data",
       "text": [
        "PROGRESS: Checkpointing model into ~/tmp/chkpt"
       ]
      },
      {
       "html": [
        "<pre>PROGRESS: | 6         | 18600    | 98.485953    | 0.416290          |                     | 0.619140          |                     | 1857.135010     |</pre>"
       ],
       "metadata": {},
       "output_type": "display_data",
       "text": [
        "PROGRESS: | 6         | 18600    | 98.485953    | 0.416290          |                     | 0.619140          |                     | 1857.135010     |"
       ]
      }
     ]
    },
    {
     "cell_type": "code",
     "collapsed": false,
     "input": [
      "pred = m.classify(test_data)\n",
      "pred"
     ],
     "language": "python",
     "metadata": {},
     "outputs": [
      {
       "html": [
        "<div style=\"max-height:1000px;max-width:1500px;overflow:auto;\"><table frame=\"box\" rules=\"cols\">\n",
        "    <tr>\n",
        "        <th style=\"padding-left: 1em; padding-right: 1em; text-align: center\">row_id</th>\n",
        "        <th style=\"padding-left: 1em; padding-right: 1em; text-align: center\">class</th>\n",
        "        <th style=\"padding-left: 1em; padding-right: 1em; text-align: center\">score</th>\n",
        "    </tr>\n",
        "    <tr>\n",
        "        <td style=\"padding-left: 1em; padding-right: 1em; text-align: center; vertical-align: top\">0</td>\n",
        "        <td style=\"padding-left: 1em; padding-right: 1em; text-align: center; vertical-align: top\">6</td>\n",
        "        <td style=\"padding-left: 1em; padding-right: 1em; text-align: center; vertical-align: top\">0.560347080231</td>\n",
        "    </tr>\n",
        "    <tr>\n",
        "        <td style=\"padding-left: 1em; padding-right: 1em; text-align: center; vertical-align: top\">1</td>\n",
        "        <td style=\"padding-left: 1em; padding-right: 1em; text-align: center; vertical-align: top\">6</td>\n",
        "        <td style=\"padding-left: 1em; padding-right: 1em; text-align: center; vertical-align: top\">0.662757396698</td>\n",
        "    </tr>\n",
        "    <tr>\n",
        "        <td style=\"padding-left: 1em; padding-right: 1em; text-align: center; vertical-align: top\">2</td>\n",
        "        <td style=\"padding-left: 1em; padding-right: 1em; text-align: center; vertical-align: top\">6</td>\n",
        "        <td style=\"padding-left: 1em; padding-right: 1em; text-align: center; vertical-align: top\">0.575888395309</td>\n",
        "    </tr>\n",
        "    <tr>\n",
        "        <td style=\"padding-left: 1em; padding-right: 1em; text-align: center; vertical-align: top\">3</td>\n",
        "        <td style=\"padding-left: 1em; padding-right: 1em; text-align: center; vertical-align: top\">0</td>\n",
        "        <td style=\"padding-left: 1em; padding-right: 1em; text-align: center; vertical-align: top\">0.742978155613</td>\n",
        "    </tr>\n",
        "    <tr>\n",
        "        <td style=\"padding-left: 1em; padding-right: 1em; text-align: center; vertical-align: top\">4</td>\n",
        "        <td style=\"padding-left: 1em; padding-right: 1em; text-align: center; vertical-align: top\">3</td>\n",
        "        <td style=\"padding-left: 1em; padding-right: 1em; text-align: center; vertical-align: top\">0.441538691521</td>\n",
        "    </tr>\n",
        "    <tr>\n",
        "        <td style=\"padding-left: 1em; padding-right: 1em; text-align: center; vertical-align: top\">5</td>\n",
        "        <td style=\"padding-left: 1em; padding-right: 1em; text-align: center; vertical-align: top\">5</td>\n",
        "        <td style=\"padding-left: 1em; padding-right: 1em; text-align: center; vertical-align: top\">0.298762112856</td>\n",
        "    </tr>\n",
        "    <tr>\n",
        "        <td style=\"padding-left: 1em; padding-right: 1em; text-align: center; vertical-align: top\">6</td>\n",
        "        <td style=\"padding-left: 1em; padding-right: 1em; text-align: center; vertical-align: top\">2</td>\n",
        "        <td style=\"padding-left: 1em; padding-right: 1em; text-align: center; vertical-align: top\">0.477362930775</td>\n",
        "    </tr>\n",
        "    <tr>\n",
        "        <td style=\"padding-left: 1em; padding-right: 1em; text-align: center; vertical-align: top\">7</td>\n",
        "        <td style=\"padding-left: 1em; padding-right: 1em; text-align: center; vertical-align: top\">4</td>\n",
        "        <td style=\"padding-left: 1em; padding-right: 1em; text-align: center; vertical-align: top\">0.307330280542</td>\n",
        "    </tr>\n",
        "    <tr>\n",
        "        <td style=\"padding-left: 1em; padding-right: 1em; text-align: center; vertical-align: top\">8</td>\n",
        "        <td style=\"padding-left: 1em; padding-right: 1em; text-align: center; vertical-align: top\">3</td>\n",
        "        <td style=\"padding-left: 1em; padding-right: 1em; text-align: center; vertical-align: top\">0.480702191591</td>\n",
        "    </tr>\n",
        "    <tr>\n",
        "        <td style=\"padding-left: 1em; padding-right: 1em; text-align: center; vertical-align: top\">9</td>\n",
        "        <td style=\"padding-left: 1em; padding-right: 1em; text-align: center; vertical-align: top\">5</td>\n",
        "        <td style=\"padding-left: 1em; padding-right: 1em; text-align: center; vertical-align: top\">0.319266170263</td>\n",
        "    </tr>\n",
        "    <tr>\n",
        "        <td style=\"padding-left: 1em; padding-right: 1em; text-align: center; vertical-align: top\">...</td>\n",
        "        <td style=\"padding-left: 1em; padding-right: 1em; text-align: center; vertical-align: top\">...</td>\n",
        "        <td style=\"padding-left: 1em; padding-right: 1em; text-align: center; vertical-align: top\">...</td>\n",
        "    </tr>\n",
        "</table>\n",
        "[3567 rows x 3 columns]<br/>Note: Only the head of the SFrame is printed.<br/>You can use print_rows(num_rows=m, num_columns=n) to print more rows and columns.\n",
        "</div>"
       ],
       "metadata": {},
       "output_type": "pyout",
       "prompt_number": 24,
       "text": [
        "Columns:\n",
        "\trow_id\tint\n",
        "\tclass\tint\n",
        "\tscore\tfloat\n",
        "\n",
        "Rows: 3567\n",
        "\n",
        "Data:\n",
        "+--------+-------+----------------+\n",
        "| row_id | class |     score      |\n",
        "+--------+-------+----------------+\n",
        "|   0    |   6   | 0.560347080231 |\n",
        "|   1    |   6   | 0.662757396698 |\n",
        "|   2    |   6   | 0.575888395309 |\n",
        "|   3    |   0   | 0.742978155613 |\n",
        "|   4    |   3   | 0.441538691521 |\n",
        "|   5    |   5   | 0.298762112856 |\n",
        "|   6    |   2   | 0.477362930775 |\n",
        "|   7    |   4   | 0.307330280542 |\n",
        "|   8    |   3   | 0.480702191591 |\n",
        "|   9    |   5   | 0.319266170263 |\n",
        "|  ...   |  ...  |      ...       |\n",
        "+--------+-------+----------------+\n",
        "[3567 rows x 3 columns]\n",
        "Note: Only the head of the SFrame is printed.\n",
        "You can use print_rows(num_rows=m, num_columns=n) to print more rows and columns."
       ]
      }
     ],
     "prompt_number": 24
    },
    {
     "cell_type": "code",
     "collapsed": false,
     "input": [
      "eval_ = m.evaluate(test_data)"
     ],
     "language": "python",
     "metadata": {},
     "outputs": [],
     "prompt_number": 25
    },
    {
     "cell_type": "code",
     "collapsed": false,
     "input": [
      "eval_"
     ],
     "language": "python",
     "metadata": {},
     "outputs": [
      {
       "metadata": {},
       "output_type": "pyout",
       "prompt_number": 26,
       "text": [
        "{'accuracy': 0.5922222137451172, 'confusion_matrix': Columns:\n",
        " \ttarget_label\tint\n",
        " \tpredicted_label\tint\n",
        " \tcount\tint\n",
        " \n",
        " Rows: 44\n",
        " \n",
        " Data:\n",
        " +--------------+-----------------+-------+\n",
        " | target_label | predicted_label | count |\n",
        " +--------------+-----------------+-------+\n",
        " |      5       |        5        |  297  |\n",
        " |      6       |        5        |   9   |\n",
        " |      3       |        5        |   12  |\n",
        " |      0       |        5        |   9   |\n",
        " |      4       |        5        |   4   |\n",
        " |      2       |        5        |   48  |\n",
        " |      1       |        5        |   3   |\n",
        " |      5       |        6        |   22  |\n",
        " |      6       |        6        |  353  |\n",
        " |      3       |        6        |   47  |\n",
        " |     ...      |       ...       |  ...  |\n",
        " +--------------+-----------------+-------+\n",
        " [44 rows x 3 columns]\n",
        " Note: Only the head of the SFrame is printed.\n",
        " You can use print_rows(num_rows=m, num_columns=n) to print more rows and columns.}"
       ]
      }
     ],
     "prompt_number": 26
    },
    {
     "cell_type": "code",
     "collapsed": false,
     "input": [
      "gl.deeplearning.get_builtin_neuralnet('imagenet')"
     ],
     "language": "python",
     "metadata": {},
     "outputs": [
      {
       "metadata": {},
       "output_type": "pyout",
       "prompt_number": 3,
       "text": [
        "\n",
        "### network layers ###\n",
        "layer[0]: ConvolutionLayer\n",
        "  init_random = gaussian\n",
        "  padding = 0\n",
        "  stride = 4\n",
        "  num_channels = 96\n",
        "  num_groups = 1\n",
        "  kernel_size = 11\n",
        "layer[1]: RectifiedLinearLayer\n",
        "layer[2]: MaxPoolingLayer\n",
        "  padding = 0\n",
        "  stride = 2\n",
        "  kernel_size = 3\n",
        "layer[3]: LocalResponseNormalizationLayer\n",
        "  alpha = 0.001\n",
        "  beta = 0.75\n",
        "  knorm = 1\n",
        "  local_size = 5\n",
        "layer[4]: ConvolutionLayer\n",
        "  init_random = gaussian\n",
        "  padding = 2\n",
        "  stride = 1\n",
        "  num_channels = 256\n",
        "  num_groups = 2\n",
        "  kernel_size = 5\n",
        "layer[5]: RectifiedLinearLayer\n",
        "layer[6]: MaxPoolingLayer\n",
        "  padding = 0\n",
        "  stride = 2\n",
        "  kernel_size = 3\n",
        "layer[7]: LocalResponseNormalizationLayer\n",
        "  alpha = 0.001\n",
        "  beta = 0.75\n",
        "  knorm = 1\n",
        "  local_size = 5\n",
        "layer[8]: ConvolutionLayer\n",
        "  init_random = gaussian\n",
        "  padding = 1\n",
        "  stride = 1\n",
        "  num_channels = 384\n",
        "  num_groups = 1\n",
        "  kernel_size = 3\n",
        "layer[9]: RectifiedLinearLayer\n",
        "layer[10]: ConvolutionLayer\n",
        "  init_random = gaussian\n",
        "  padding = 1\n",
        "  stride = 1\n",
        "  num_channels = 384\n",
        "  num_groups = 2\n",
        "  kernel_size = 3\n",
        "layer[11]: RectifiedLinearLayer\n",
        "layer[12]: ConvolutionLayer\n",
        "  init_random = gaussian\n",
        "  padding = 1\n",
        "  stride = 1\n",
        "  init_bias = 1.0\n",
        "  num_channels = 256\n",
        "  num_groups = 2\n",
        "  kernel_size = 3\n",
        "layer[13]: RectifiedLinearLayer\n",
        "layer[14]: MaxPoolingLayer\n",
        "  padding = 0\n",
        "  stride = 2\n",
        "  kernel_size = 3\n",
        "layer[15]: FlattenLayer\n",
        "layer[16]: FullConnectionLayer\n",
        "  init_sigma = 0.005\n",
        "  init_random = gaussian\n",
        "  init_bias = 1.0\n",
        "  num_hidden_units = 4096\n",
        "layer[17]: RectifiedLinearLayer\n",
        "layer[18]: DropoutLayer\n",
        "  threshold = 0.5\n",
        "layer[19]: FullConnectionLayer\n",
        "  init_sigma = 0.005\n",
        "  init_random = gaussian\n",
        "  init_bias = 1.0\n",
        "  num_hidden_units = 4096\n",
        "layer[20]: RectifiedLinearLayer\n",
        "layer[21]: DropoutLayer\n",
        "  threshold = 0.5\n",
        "layer[22]: FullConnectionLayer\n",
        "  init_sigma = 0.01\n",
        "  init_random = gaussian\n",
        "  init_bias = 0\n",
        "  num_hidden_units = 1000\n",
        "layer[23]: SoftmaxLayer\n",
        "### end network layers ###\n",
        "\n",
        "### network parameters ###\n",
        "init_random = gaussian\n",
        "random_mirror = 1\n",
        "learning_rate = 0.01\n",
        "input_shape = 3,227,227\n",
        "learning_rate_gamma = 0.1\n",
        "learning_rate_schedule = exponential_decay\n",
        "init_sigma = 0.01\n",
        "learning_rate_step = 100000\n",
        "random_crop = 1\n",
        "bias_learning_rate = 0.02\n",
        "l2_regularization = 0.0005\n",
        "momentum = 0.9\n",
        "### end network parameters ###"
       ]
      }
     ],
     "prompt_number": 3
    },
    {
     "cell_type": "code",
     "collapsed": false,
     "input": [
      "gl.deeplearning.get_builtin_neuralnet('mnist')"
     ],
     "language": "python",
     "metadata": {},
     "outputs": [
      {
       "metadata": {},
       "output_type": "pyout",
       "prompt_number": 4,
       "text": [
        "\n",
        "### network layers ###\n",
        "layer[0]: ConvolutionLayer\n",
        "  init_random = gaussian\n",
        "  random_type = xavier\n",
        "  padding = 1\n",
        "  stride = 2\n",
        "  num_channels = 32\n",
        "  num_groups = 1\n",
        "  kernel_size = 3\n",
        "layer[1]: MaxPoolingLayer\n",
        "  padding = 0\n",
        "  stride = 2\n",
        "  kernel_size = 3\n",
        "layer[2]: FlattenLayer\n",
        "layer[3]: DropoutLayer\n",
        "  threshold = 0.5\n",
        "layer[4]: FullConnectionLayer\n",
        "  init_sigma = 0.01\n",
        "  init_random = gaussian\n",
        "  init_bias = 0\n",
        "  num_hidden_units = 100\n",
        "layer[5]: SigmoidLayer\n",
        "layer[6]: FullConnectionLayer\n",
        "  init_sigma = 0.01\n",
        "  init_random = gaussian\n",
        "  init_bias = 0\n",
        "  num_hidden_units = 10\n",
        "layer[7]: SoftmaxLayer\n",
        "### end network layers ###\n",
        "\n",
        "### network parameters ###\n",
        "init_random = gaussian\n",
        "learning_rate = 0.1\n",
        "input_shape = 1,28,28\n",
        "batch_size = 100\n",
        "divideby = 255\n",
        "l2_regularization = 0.0\n",
        "momentum = 0.9\n",
        "### end network parameters ###"
       ]
      }
     ],
     "prompt_number": 4
    },
    {
     "cell_type": "code",
     "collapsed": false,
     "input": [
      "net"
     ],
     "language": "python",
     "metadata": {},
     "outputs": [
      {
       "metadata": {},
       "output_type": "pyout",
       "prompt_number": 9,
       "text": [
        "\n",
        "### network layers ###\n",
        "layer[0]: ConvolutionLayer\n",
        "  init_random = gaussian\n",
        "  padding = 0\n",
        "  stride = 2\n",
        "  num_channels = 10\n",
        "  num_groups = 1\n",
        "  kernel_size = 3\n",
        "layer[1]: MaxPoolingLayer\n",
        "  padding = 0\n",
        "  stride = 2\n",
        "  kernel_size = 3\n",
        "layer[2]: FlattenLayer\n",
        "layer[3]: FullConnectionLayer\n",
        "  init_sigma = 0.01\n",
        "  init_random = gaussian\n",
        "  init_bias = 0\n",
        "  num_hidden_units = 100\n",
        "layer[4]: RectifiedLinearLayer\n",
        "layer[5]: DropoutLayer\n",
        "  threshold = 0.5\n",
        "layer[6]: FullConnectionLayer\n",
        "  init_sigma = 0.01\n",
        "  init_random = gaussian\n",
        "  init_bias = 0\n",
        "  num_hidden_units = 7\n",
        "layer[7]: SoftmaxLayer\n",
        "### end network layers ###\n",
        "\n",
        "### network parameters ###\n",
        "learning_rate = 0.001\n",
        "momentum = 0.9\n",
        "### end network parameters ###"
       ]
      }
     ],
     "prompt_number": 9
    },
    {
     "cell_type": "code",
     "collapsed": false,
     "input": [],
     "language": "python",
     "metadata": {},
     "outputs": []
    }
   ],
   "metadata": {}
  }
 ]
}