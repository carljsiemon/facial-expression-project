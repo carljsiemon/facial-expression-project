{
 "worksheets": [
  {
   "cells": [
    {
     "cell_type": "code",
     "metadata": {},
     "outputs": [],
     "input": [
      "import graphlab as gl\n",
      "from fec.classifier.gl_nn import GraphLabNeuralNetBuilder"
     ],
     "language": "python",
     "prompt_number": 29
    },
    {
     "cell_type": "code",
     "metadata": {},
     "outputs": [],
     "input": [
      "check_point_path = \"/Users/chris/tmp/chkpt_net_manual\"\n",
      "data_frame_path = 's3://cmgreen210-emotions/sframe-35k'"
     ],
     "language": "python",
     "prompt_number": 111
    },
    {
     "cell_type": "code",
     "metadata": {},
     "outputs": [],
     "input": [
      "# Create network builder and set network parameters\n",
      "net = GraphLabNeuralNetBuilder()\n",
      "net['learning_rate'] = 0.1\n",
      "net['momentum'] = 0.5\n",
      "net['subtract_mean'] = True\n",
      "net['random_crop'] = True\n",
      "net['input_shape'] = '1,48,48'\n",
      "net['random_mirror'] = True\n",
      "\n",
      "# Convolution Layer\n",
      "stride = 2\n",
      "num_channels = 10\n",
      "kernel_size = 3\n",
      "\n",
      "kwargs = {}\n",
      "\n",
      "net.add_convolution_layer(kernel_size, stride, num_channels, **kwargs)\n",
      "\n",
      "# Pooling Layer\n",
      "padding = 0\n",
      "stride = 2\n",
      "kernel_size = 3\n",
      "\n",
      "net.add_max_pooling_layer(kernel_size, stride, padding)\n",
      "\n",
      "# Flatten Layer\n",
      "net.add_flatten_layer()\n",
      "\n",
      "# Fully Connected Layer\n",
      "num_hidden_units = 400\n",
      "\n",
      "net.add_full_connection_layer(num_hidden_units)\n",
      "\n",
      "# Fully Connected Layer\n",
      "num_hidden_units = 7  # Number of class labels\n",
      "\n",
      "net.add_full_connection_layer(num_hidden_units)\n",
      "\n",
      "# Soft Max Layer\n",
      "net.add_soft_max_layer()"
     ],
     "language": "python",
     "prompt_number": 102
    },
    {
     "cell_type": "code",
     "metadata": {},
     "outputs": [],
     "input": [
      "data = gl.load_sframe(data_frame_path)\n",
      "training_data, test_data = data.random_split(.8)"
     ],
     "language": "python",
     "prompt_number": 103
    },
    {
     "cell_type": "code",
     "metadata": {},
     "outputs": [
      {
       "output_type": "pyout",
       "html": [
        "<pre>PROGRESS: Computing mean image...</pre>"
       ],
       "text": [
        "PROGRESS: Computing mean image..."
       ],
       "metadata": {}
      },
      {
       "output_type": "pyout",
       "html": [
        "<pre>PROGRESS: Done computing mean image.</pre>"
       ],
       "text": [
        "PROGRESS: Done computing mean image."
       ],
       "metadata": {}
      },
      {
       "output_type": "pyout",
       "html": [
        "<pre>PROGRESS: Creating neuralnet using device = cpu</pre>"
       ],
       "text": [
        "PROGRESS: Creating neuralnet using device = cpu"
       ],
       "metadata": {}
      },
      {
       "output_type": "pyout",
       "html": [
        "<pre>PROGRESS: +-----------+----------+--------------+-------------------+---------------------+-----------------+</pre>"
       ],
       "text": [
        "PROGRESS: +-----------+----------+--------------+-------------------+---------------------+-----------------+"
       ],
       "metadata": {}
      },
      {
       "output_type": "pyout",
       "html": [
        "<pre>PROGRESS: | Iteration | Examples | Elapsed Time | Training-accuracy | Validation-accuracy | Examples/second |</pre>"
       ],
       "text": [
        "PROGRESS: | Iteration | Examples | Elapsed Time | Training-accuracy | Validation-accuracy | Examples/second |"
       ],
       "metadata": {}
      },
      {
       "output_type": "pyout",
       "html": [
        "<pre>PROGRESS: +-----------+----------+--------------+-------------------+---------------------+-----------------+</pre>"
       ],
       "text": [
        "PROGRESS: +-----------+----------+--------------+-------------------+---------------------+-----------------+"
       ],
       "metadata": {}
      },
      {
       "output_type": "stream",
       "stream": "stderr",
       "text": [
        "[ERROR] Toolkit error: Cancelled by user.\n"
       ]
      },
      {
       "output_type": "stream",
       "stream": "stdout",
       "text": [
        "Using network:\n",
        "\n",
        "### network layers ###\n",
        "layer[0]: ConvolutionLayer\n",
        "  init_random = gaussian\n",
        "  padding = 0\n",
        "  stride = 2\n",
        "  num_channels = 10\n",
        "  num_groups = 1\n",
        "  kernel_size = 3\n",
        "layer[1]: MaxPoolingLayer\n",
        "  padding = 0\n",
        "  stride = 2\n",
        "  kernel_size = 3\n",
        "layer[2]: FlattenLayer\n",
        "layer[3]: FullConnectionLayer\n",
        "  init_sigma = 0.01\n",
        "  init_random = gaussian\n",
        "  init_bias = 0\n",
        "  num_hidden_units = 400\n",
        "layer[4]: FullConnectionLayer\n",
        "  init_sigma = 0.01\n",
        "  init_random = gaussian\n",
        "  init_bias = 0\n",
        "  num_hidden_units = 7\n",
        "layer[5]: SoftmaxLayer\n",
        "### end network layers ###\n",
        "\n",
        "### network parameters ###\n",
        "model_checkpoint_path = /Users/chris/tmp/chkpt_net_manual\n",
        "learning_rate = 0.1\n",
        "input_shape = 1,48,48\n",
        "subtract_mean = True\n",
        "random_mirror = True\n",
        "random_crop = True\n",
        "momentum = 0.5\n",
        "### end network parameters ###\n",
        "\n",
        "PROGRESS: Creating a validation set from 5 percent of training data. This may take a while.\n",
        "          You can set ``validation_set=None`` to disable validation tracking.\n",
        "\n"
       ]
      },
      {
       "ename": "ToolkitError",
       "evalue": "Cancelled by user.",
       "output_type": "pyerr",
       "traceback": [
        "\u001b[0;31m---------------------------------------------------------------------------\u001b[0m\n\u001b[0;31mToolkitError\u001b[0m                              Traceback (most recent call last)",
        "\u001b[0;32m<ipython-input-113-ee185fa1d12e>\u001b[0m in \u001b[0;36m<module>\u001b[0;34m()\u001b[0m\n\u001b[1;32m      9\u001b[0m                                        \u001b[0mmax_iterations\u001b[0m\u001b[0;34m=\u001b[0m\u001b[0mmax_iterations\u001b[0m\u001b[0;34m,\u001b[0m\u001b[0;34m\u001b[0m\u001b[0m\n\u001b[1;32m     10\u001b[0m                                        \u001b[0mnetwork\u001b[0m\u001b[0;34m=\u001b[0m\u001b[0mnetwork\u001b[0m\u001b[0;34m,\u001b[0m\u001b[0;34m\u001b[0m\u001b[0m\n\u001b[0;32m---> 11\u001b[0;31m                                        \u001b[0mmodel_checkpoint_path\u001b[0m\u001b[0;34m=\u001b[0m\u001b[0mcheck_point_path\u001b[0m\u001b[0;34m,\u001b[0m\u001b[0;34m\u001b[0m\u001b[0m\n\u001b[0m\u001b[1;32m     12\u001b[0m                                        )\n",
        "\u001b[0;32m/usr/local/lib/python2.7/site-packages/graphlab/toolkits/classifier/neuralnet_classifier.pyc\u001b[0m in \u001b[0;36mcreate\u001b[0;34m(dataset, target, features, max_iterations, network, validation_set, verbose, **kwargs)\u001b[0m\n\u001b[1;32m    974\u001b[0m                        \u001b[0m_model_constructor\u001b[0m\u001b[0;34m=\u001b[0m\u001b[0m_cloudpickle\u001b[0m\u001b[0;34m.\u001b[0m\u001b[0mdumps\u001b[0m\u001b[0;34m(\u001b[0m\u001b[0mNeuralNetClassifier\u001b[0m\u001b[0;34m(\u001b[0m\u001b[0mNone\u001b[0m\u001b[0;34m)\u001b[0m\u001b[0;34m.\u001b[0m\u001b[0m_get_wrapper\u001b[0m\u001b[0;34m(\u001b[0m\u001b[0;34m)\u001b[0m\u001b[0;34m)\u001b[0m\u001b[0;34m,\u001b[0m\u001b[0;34m\u001b[0m\u001b[0m\n\u001b[1;32m    975\u001b[0m                        \u001b[0mmax_iterations\u001b[0m\u001b[0;34m=\u001b[0m\u001b[0mmax_iterations\u001b[0m\u001b[0;34m,\u001b[0m\u001b[0;34m\u001b[0m\u001b[0m\n\u001b[0;32m--> 976\u001b[0;31m                        **(_network.params))\n\u001b[0m\u001b[1;32m    977\u001b[0m \u001b[0;34m\u001b[0m\u001b[0m\n\u001b[1;32m    978\u001b[0m     \u001b[0;32mreturn\u001b[0m \u001b[0mNeuralNetClassifier\u001b[0m\u001b[0;34m(\u001b[0m\u001b[0mmodel\u001b[0m\u001b[0;34m.\u001b[0m\u001b[0m__proxy__\u001b[0m\u001b[0;34m)\u001b[0m\u001b[0;34m\u001b[0m\u001b[0m\n",
        "\u001b[0;32m/usr/local/lib/python2.7/site-packages/graphlab/toolkits/_supervised_learning.pyc\u001b[0m in \u001b[0;36mcreate\u001b[0;34m(dataset, target, model_name, features, validation_set, verbose, **kwargs)\u001b[0m\n\u001b[1;32m    363\u001b[0m             'target_validation' : _toolkits_select_columns(validation_set, [target])})\n\u001b[1;32m    364\u001b[0m \u001b[0;34m\u001b[0m\u001b[0m\n\u001b[0;32m--> 365\u001b[0;31m     \u001b[0mret\u001b[0m \u001b[0;34m=\u001b[0m \u001b[0m_graphlab\u001b[0m\u001b[0;34m.\u001b[0m\u001b[0mtoolkits\u001b[0m\u001b[0;34m.\u001b[0m\u001b[0m_main\u001b[0m\u001b[0;34m.\u001b[0m\u001b[0mrun\u001b[0m\u001b[0;34m(\u001b[0m\u001b[0;34m\"supervised_learning_train\"\u001b[0m\u001b[0;34m,\u001b[0m \u001b[0moptions\u001b[0m\u001b[0;34m,\u001b[0m \u001b[0mverbose\u001b[0m\u001b[0;34m=\u001b[0m\u001b[0mverbose\u001b[0m\u001b[0;34m)\u001b[0m\u001b[0;34m\u001b[0m\u001b[0m\n\u001b[0m\u001b[1;32m    366\u001b[0m     \u001b[0mmodel\u001b[0m \u001b[0;34m=\u001b[0m \u001b[0mSupervisedLearningModel\u001b[0m\u001b[0;34m(\u001b[0m\u001b[0mret\u001b[0m\u001b[0;34m[\u001b[0m\u001b[0;34m'model'\u001b[0m\u001b[0;34m]\u001b[0m\u001b[0;34m,\u001b[0m \u001b[0mmodel_name\u001b[0m\u001b[0;34m)\u001b[0m\u001b[0;34m\u001b[0m\u001b[0m\n\u001b[1;32m    367\u001b[0m     \u001b[0;32mreturn\u001b[0m \u001b[0mmodel\u001b[0m\u001b[0;34m\u001b[0m\u001b[0m\n",
        "\u001b[0;32m/usr/local/lib/python2.7/site-packages/graphlab/toolkits/_main.pyc\u001b[0m in \u001b[0;36mrun\u001b[0;34m(toolkit_name, options, verbose, show_progress)\u001b[0m\n\u001b[1;32m     97\u001b[0m         \u001b[0;32mreturn\u001b[0m \u001b[0mparams\u001b[0m\u001b[0;34m\u001b[0m\u001b[0m\n\u001b[1;32m     98\u001b[0m     \u001b[0;32melse\u001b[0m\u001b[0;34m:\u001b[0m\u001b[0;34m\u001b[0m\u001b[0m\n\u001b[0;32m---> 99\u001b[0;31m         \u001b[0;32mraise\u001b[0m \u001b[0mToolkitError\u001b[0m\u001b[0;34m(\u001b[0m\u001b[0mstr\u001b[0m\u001b[0;34m(\u001b[0m\u001b[0mmessage\u001b[0m\u001b[0;34m)\u001b[0m\u001b[0;34m)\u001b[0m\u001b[0;34m\u001b[0m\u001b[0m\n\u001b[0m",
        "\u001b[0;31mToolkitError\u001b[0m: Cancelled by user."
       ]
      }
     ],
     "input": [
      "# Create Classifier\n",
      "max_iterations = 10\n",
      "target = 'label'\n",
      "network = net.get_net()\n",
      "dataset = training_data\n",
      "\n",
      "model = gl.neuralnet_classifier.create(dataset,\n",
      "                                       target=target,\n",
      "                                       max_iterations=max_iterations,\n",
      "                                       network=network,\n",
      "                                       model_checkpoint_path=check_point_path,\n",
      "                                       )"
     ],
     "language": "python",
     "prompt_number": 113
    }
   ]
  }
 ],
 "cells": [],
 "metadata": {
  "name": "",
  "signature": "sha256:63b636adc2861f0d2e605eb95881f9b9bf93c336b9a684269e7a0710a6bcaa35"
 },
 "nbformat": 3,
 "nbformat_minor": 0
}